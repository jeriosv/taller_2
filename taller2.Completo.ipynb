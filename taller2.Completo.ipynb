{
 "cells": [
  {
   "attachments": {},
   "cell_type": "markdown",
   "metadata": {},
   "source": [
    "# 1: Desarrollar un programa que ingrese un número entero n y separe todos los digitos que componen el número. Pista: Utilice los operadores módulo (%) y división entera (//)."
   ]
  },
  {
   "cell_type": "code",
   "execution_count": 1,
   "metadata": {},
   "outputs": [
    {
     "name": "stdout",
     "output_type": "stream",
     "text": [
      "Los dígitos separados del número ingresado son: [1, 2, 3, 4, 5, 6, 7, 8, 9]\n"
     ]
    }
   ],
   "source": [
    "numeros = []                    # Definición de la lista numeros\n",
    "def separarDigitos(num):        # Definición de la Función para separa los dígitos de un número\n",
    "    while num > 0:  \n",
    "        numeros.append(num%10)  # Operador módulo % para obtener el último dígito de num\n",
    "        num = num // 10         # Operador de división entera \"//\" para eliminar el último dígito de num\n",
    "    numeros.reverse()           # Invierte el orden de los elementos de la lista numeros\n",
    "    print(\"Los dígitos separados del número ingresado son: \" + str(numeros)) # Imprimir resultados\n",
    "n = int(input(\"Ingrese un número entero para separar sus dígitos: \"))        # Ingreso del usuario\n",
    "separarDigitos(n)               # Llamado de la función como argumento pasando n"
   ]
  },
  {
   "attachments": {},
   "cell_type": "markdown",
   "metadata": {},
   "source": [
    "# 2: Desarrollar un programa que ingrese un número flotante n y separe su parte entera de la parte decimal, y luego entregue los dígitos tanto de la parte entera como de la decimal."
   ]
  },
  {
   "cell_type": "code",
   "execution_count": 2,
   "metadata": {},
   "outputs": [
    {
     "name": "stdout",
     "output_type": "stream",
     "text": [
      "La parte entera del número 12345.6789 es 12345 y su parte decimal es 0.6789000000007945\n"
     ]
    }
   ],
   "source": [
    "import math                     # Importar el módulo math\n",
    "n = float(input(\"Ingrese el número a calcular su parte entera y su parte decimal: \"))  # Ingreso del usuario\n",
    "\n",
    "parteEntera = math.trunc(n)     # math.trunc() obtiene la parte entera del número n\n",
    "parteDecimal = n - parteEntera  # Restar la parte entera del número n\n",
    "\n",
    "print(\"La parte entera del número \" + str(n) + \" es \" + str(parteEntera) + \" y su parte decimal es \" + str(parteDecimal))  # Imprimir resultado"
   ]
  },
  {
   "attachments": {},
   "cell_type": "markdown",
   "metadata": {},
   "source": [
    "# 3: Desarrollar un programa que permita ingresar dos números enteros y determinar si se tratan de números espejos, definiendo números espejos como dos números a y b tales que a se lee de izquierda a derecha igual que se lee b de derecha a izquierda, y viceversa."
   ]
  },
  {
   "cell_type": "code",
   "execution_count": 3,
   "metadata": {},
   "outputs": [
    {
     "name": "stdout",
     "output_type": "stream",
     "text": [
      "Los números 1234567 y 7654321 sí son espejos.\n"
     ]
    }
   ],
   "source": [
    "def numeroEspejo(numero):  # Definición de la función numeroEspejo\n",
    "    numero_invertido = 0   # Inicializa variable en cero\n",
    "    while numero > 0:      # Mientras el número sea mayor que cero\n",
    "        digito = numero % 10  # Operador módulo % para obtener el último dígito de numero \n",
    "        numero_invertido = (numero_invertido * 10) + digito  # Se multiplica numero_invertido por 10 y se le suma digito para invertir el orden de los dígitos de numero \n",
    "        numero //= 10         # Se utiliza el operador de división entera \"//\" para eliminar el último dígito de \"numero\"\n",
    "    return numero_invertido   # Retorna el número invertido\n",
    "\n",
    "a = int(input(\"Ingrese el primer número:  \"))  # Ingreso del usuario de a\n",
    "b = int(input(\"Ingrese el segundo número: \"))  # Ingreso del usuario de b\n",
    "\n",
    "a_invertido = numeroEspejo(a)  # Llamado de la función\n",
    "\n",
    "if a_invertido == b:           # Si el número invertido n_invertido es igual al número b\n",
    "    print(\"Los números\", a, \"y\", b, \"sí son espejos.\")  # Imprimir resultado afirmativo\n",
    "else:\n",
    "    print(\"Los números\", a, \"y\", b, \"no son espejos.\")  # Imprimir resultado negativo"
   ]
  },
  {
   "attachments": {},
   "cell_type": "markdown",
   "metadata": {},
   "source": [
    "# 4: Diseñar una función que permita calcular una aproximación de la función coseno alrededor de 0 para cualquier valor x (real), utilizando los primeros n términos de la serie de Taylor. **nota:** use *math* para traer la función coseno y mostrar la diferencia entre el valor real y la aproximación. Calcule con cuántos términos de la serie (i.e: cuáles valores de n), se tienen errores del 10%, 1%, 0.1% y 0.001%.\n",
    "$$cos(x) \\approx cos(x,n) \\approx \\sum_{i=0}^{n} (-1)^i \\frac{x^{2i}}{(2i)!}$$"
   ]
  },
  {
   "cell_type": "code",
   "execution_count": 4,
   "metadata": {},
   "outputs": [
    {
     "name": "stdout",
     "output_type": "stream",
     "text": [
      "Aproximación de coseno de x: -0.14550031856588766\n",
      "Valor real de coseno de x:   -0.14550003380861354\n",
      "Con un error de 0.001% se necesitan 16 términos de la serie\n",
      "\n",
      "Aproximación de coseno de x: -0.14555909383180105\n",
      "Valor real de coseno de x:   -0.14550003380861354\n",
      "Con un error de 0.1% se necesitan 14 términos de la serie\n",
      "\n",
      "Aproximación de coseno de x: -0.14480968184559295\n",
      "Valor real de coseno de x:   -0.14550003380861354\n",
      "Con un error de 1% se necesitan 13 términos de la serie\n",
      "\n",
      "Aproximación de coseno de x: -0.152420897330519\n",
      "Valor real de coseno de x:   -0.14550003380861354\n",
      "Con un error de 10% se necesitan 12 términos de la serie\n",
      "\n"
     ]
    }
   ],
   "source": [
    "import math             # Importan el módulo math\n",
    "\n",
    "def aproxCoseno(x, n):  # Función aproximación del coseno\n",
    "    aproximacion = 0    # Inicializar variable en cero\n",
    "    for i in range(n):  # Utilizar un bucle for hasta n términos\n",
    "        termino = ((-1) ** i) * (x ** (2 * i)) / math.factorial(2 * i)  # Calcular i-ésimo término de la serie de Taylor para el coseno\n",
    "        aproximacion += termino  # Sumar el i-ésimo término a la variable \n",
    "    return aproximacion          # Retornar la aproximacion de los n terminos\n",
    "\n",
    "x = float(input(\"Ingrese el valor de x, para aproximar coseno de x: \"))  # Ingreso del usuario\n",
    "\n",
    "errores_deseados = [0.001, 0.1, 1, 10]  # Lista de errores esperados\n",
    "\n",
    "for error in errores_deseados:  # Bucle for para iterar segun el error esperado\n",
    "    e = 0                       # Inicializar e en cero\n",
    "    while True:                 # Bucle infinito\n",
    "        e += 1                  # Aumentar e en 1\n",
    "        aproximacion = aproxCoseno(x, e)  # Llamado de la funcion de aproximacion de coseno\n",
    "        error_porcentual = abs((aproximacion - math.cos(x)) / math.cos(x)) * 100  # Cálculo del error porcentual\n",
    "        if error_porcentual <= error:  # Si el error porcentual es menor al error deseado\n",
    "            break               # Salir del bucle infinito\n",
    "    print(\"Aproximación de coseno de x: \" + str(aproximacion))  # Imprimir la aproximación por series de Taylor\n",
    "    print(\"Valor real de coseno de x:   \" + str(math.cos(x)))   # Imprimir el valor real de coseno de x\n",
    "    print(\"Con un error de \" + str(error) + \"% se necesitan \" + str(e) + \" términos de la serie\\n\")  # Imprimir los términos necesarios\n"
   ]
  },
  {
   "attachments": {},
   "cell_type": "markdown",
   "metadata": {},
   "source": [
    "# 5: Desarrollar un programa que permita determinar el Mínimo Común Múltiplo de dos numeros enteros. Abordar el problema desde una perpectiva tanto iterativa como recursiva. **Pista:** Puede ser de utilidad chequear el [Algoritmo de Euclides](https://es.wikipedia.org/wiki/Algoritmo_de_Euclides) para el cálculo del Máximo Común Divisor, y revisar cómo se relaciona este último con el Mínimo Común Múltiplo."
   ]
  },
  {
   "cell_type": "code",
   "execution_count": 5,
   "metadata": {},
   "outputs": [
    {
     "name": "stdout",
     "output_type": "stream",
     "text": [
      "El Mínimo Común Múltiplo de 60 y 12 con perspectiva iterativa es: 60\n",
      "El Mínimo Común Múltiplo de 60 y 12 con perspectiva recursiva es: 60\n"
     ]
    }
   ],
   "source": [
    "def mcd(a, b): # Función para calcular el Máximo Común Divisor de dos números\n",
    "    while b:\n",
    "        a, b = b, a % b\n",
    "    return a\n",
    "\n",
    "def mcm(a, b): # Función para calcular el Mínimo Común Múltiplo de dos números\n",
    "    return a * b // mcd(a, b)\n",
    "\n",
    "def mcmIterativo(a, b): # Función iterativa para calcular el Mínimo Común Múltiplo de dos números\n",
    "    return mcm(a, b)\n",
    "\n",
    "def mcmRecursivo(a, b): # Función recursiva para calcular el Mínimo Común Múltiplo de dos números\n",
    "    if b == 0:\n",
    "        return a\n",
    "    else:\n",
    "        return mcmRecursivo(b, a % b) * a // mcd(a, b)\n",
    "\n",
    "if __name__ == \"__main__\":\n",
    "    a = int(input(\"Ingrese el primer número:  \"))    # Ingreso del usuario \n",
    "    b = int(input(\"Ingrese el segundo número: \"))\n",
    "    print(\"El Mínimo Común Múltiplo de\", a, \"y\", b, \"con perspectiva iterativa es:\", mcmIterativo(a, b))  # Imprimir resultados\n",
    "    print(\"El Mínimo Común Múltiplo de\", a, \"y\", b, \"con perspectiva recursiva es:\", mcmRecursivo(a, b))\n"
   ]
  },
  {
   "attachments": {},
   "cell_type": "markdown",
   "metadata": {},
   "source": [
    "# 6: Desarrollar un programa que determine si en una lista existen o no elementos repetidos. **Pista:** Maneje valores booleanos y utilice el operador *in*.\n"
   ]
  },
  {
   "cell_type": "code",
   "execution_count": 6,
   "metadata": {},
   "outputs": [
    {
     "name": "stdout",
     "output_type": "stream",
     "text": [
      "La lista ingresada es: ['hola', 'soy', 'un', 'estudiante', 'preocupado', 'un', 'estudiante']\n",
      "Sí existen elementos repetidos en la lista.\n"
     ]
    }
   ],
   "source": [
    "lista = []   # Definimos una lista vacía\n",
    "\n",
    "k = 1\n",
    "while True:       # Ingreso del usuario de los términos de la lista\n",
    "    elemento = input(\"Ingrese el elemento No. \" +  str(k)  + \" de la lista (o presione Enter para terminar): \")\n",
    "    if elemento == '':\n",
    "        break\n",
    "    k += 1\n",
    "    lista.append(str(elemento))\n",
    "\n",
    "repetidos = False\n",
    "for i in range(len(lista)):    # Buscar elementos repetidos en la lista\n",
    "    for j in range(i+1, len(lista)):\n",
    "        if lista[i] == lista[j]:\n",
    "            repetidos = True\n",
    "            break\n",
    "    if repetidos:\n",
    "        break\n",
    "\n",
    "print(\"La lista ingresada es: \" + str(lista))  # Imprimir la lista\n",
    "\n",
    "if repetidos:     # Imprimir resultado\n",
    "    print('Sí existen elementos repetidos en la lista.')\n",
    "else:\n",
    "    print('No existen elementos repetidos en la lista.')"
   ]
  },
  {
   "attachments": {},
   "cell_type": "markdown",
   "metadata": {},
   "source": [
    "# 7: Desarrollar un programa que determine si en una lista se encuentra una cadena de caracteres con dos o más vocales. Si la cadena existe debe imprimirla y si no existe debe imprimir 'No existe'."
   ]
  },
  {
   "cell_type": "code",
   "execution_count": 7,
   "metadata": {},
   "outputs": [
    {
     "name": "stdout",
     "output_type": "stream",
     "text": [
      "Las cadenas que tienen 2 o más vocales son:\n",
      "La cadena 'aeiou' tiene 5 vocales.\n",
      "La cadena 'ae' tiene 2 vocales.\n",
      "La cadena 'casa' tiene 2 vocales.\n",
      "La cadena 'termo' tiene 2 vocales.\n",
      "La cadena 'irene' tiene 3 vocales.\n",
      "La cadena 'amor' tiene 2 vocales.\n",
      "La cadena 'tragedia' tiene 4 vocales.\n",
      "La cadena 'dios' tiene 2 vocales.\n",
      "La cadena 'amar' tiene 2 vocales.\n",
      "La cadena 'mouse' tiene 3 vocales.\n"
     ]
    }
   ],
   "source": [
    "lista=[]                  # Definimos una lista vacía \n",
    "\n",
    "k = 1\n",
    "while True:               # Ingreso del usuario de las cadenas de caracteres\n",
    "    cadena = input(\"Ingrese la cadena de caracteres No. \" +  str(k)  + \" de la lista (o presione Enter para terminar): \")\n",
    "    if cadena == '':      # Si el usuario ingresa Enter, salimos del bucle\n",
    "        break\n",
    "    k += 1\n",
    "    lista.append(cadena)   # Agregar la cadena a la lista\n",
    "\n",
    "def cuentaVocales(cadena): # Función para contar las vocales\n",
    "    vocales = ['a', 'e', 'i', 'o', 'u', 'A', 'E', 'I', 'O', 'U'] # Lista de vocales\n",
    "    contador = 0           # Inicializar contador\n",
    "    for letra in cadena:   # Recorrer la cadena en busqueda de vocales\n",
    "        if letra in vocales:\n",
    "            contador += 1\n",
    "    return contador        # Retorna el número de vocales en una cadena de caracteres\n",
    "\n",
    "encontrado = False\n",
    "print(\"Las cadenas que tienen 2 o más vocales son:\")\n",
    "\n",
    "for cadena in lista:       # Recorrer la lista de cadenas de caracteres\n",
    "    cantidadVocales = cuentaVocales(cadena)   \n",
    "    if cantidadVocales >= 2: # Si la cadena tiene dos o más vocales, imprimir y cambiar encontrado a true\n",
    "        print(f\"La cadena '{cadena}' tiene {cantidadVocales} vocales.\")\n",
    "        encontrado = True\n",
    "\n",
    "if not encontrado:         # Imprimir resultado negativo\n",
    "    print(\"No existe.\")"
   ]
  },
  {
   "attachments": {},
   "cell_type": "markdown",
   "metadata": {},
   "source": [
    "# 8:  Desarrollar un programa que dadas dos listas determine que elementos tiene la primera lista que no tenga la segunda lista."
   ]
  },
  {
   "cell_type": "code",
   "execution_count": 8,
   "metadata": {},
   "outputs": [
    {
     "name": "stdout",
     "output_type": "stream",
     "text": [
      "La primer lista ingresada es:  ['que', 'tengo', 'yo', 'que', 'no', 'tengas', 'tu']\n",
      "La segunda lista ingresada es: ['yo', 'tengo', 'mas', 'que', 'lo', 'que', 'tu', 'tienes']\n",
      "Los elementos que están en la primera lista pero no en la segunda lista son: ['no', 'tengas']\n"
     ]
    }
   ],
   "source": [
    "lista1 = []\n",
    "k = 1\n",
    "while True:    # Ingreso del usuario de los terminos de la primera lista\n",
    "    elemento = input(\"Ingrese el elemento No. \" +  str(k)  + \" para la primera lista (o presione Enter para terminar): \")\n",
    "    if elemento == '':\n",
    "        break\n",
    "    k += 1\n",
    "    lista1.append(str(elemento))\n",
    "\n",
    "lista2 = []\n",
    "k = 1\n",
    "while True:    # Ingreso del usuario de los terminos de la segunda lista\n",
    "    elemento = input(\"Ingrese el elemento No. \" +  str(k)  + \" para la segunda lista (o presione Enter para terminar): \")\n",
    "    if elemento == '':\n",
    "        break\n",
    "    k += 1\n",
    "    lista2.append(str(elemento))\n",
    "\n",
    "diferentes = []   # Lista vacía para almacenar los elementos que están en la primera lista pero no en la segunda lista\n",
    "\n",
    "for elemento in lista1:    # Recorrer la primera lista y verificamos si cada elemento está en la segunda lista\n",
    "    esta_en_lista2 = False\n",
    "    for elemento2 in lista2:\n",
    "        if elemento == elemento2:\n",
    "            esta_en_lista2 = True\n",
    "            break\n",
    "    if not esta_en_lista2:\n",
    "        diferentes.append(elemento)\n",
    "\n",
    "print(\"La primer lista ingresada es:  \" + str(lista1))  # Imprimir la lista 1\n",
    "print(\"La segunda lista ingresada es: \" + str(lista2))  # Imprimir la lista 2\n",
    "print(\"Los elementos que están en la primera lista pero no en la segunda lista son:\", diferentes) # Imprimir resultados"
   ]
  },
  {
   "attachments": {},
   "cell_type": "markdown",
   "metadata": {},
   "source": [
    "# 9: Resolver el punto 7 del [taller 1](https://github.com/fegonzalez7/pdc_unal_clase8) usando operaciones con vectores."
   ]
  },
  {
   "cell_type": "code",
   "execution_count": 9,
   "metadata": {},
   "outputs": [
    {
     "name": "stdout",
     "output_type": "stream",
     "text": [
      "El promedio aritmético es: 4.18\n",
      "La mediana es:             4.2\n",
      "El promedio multiplicativo es:        4.151642987035572\n",
      "Los números en orden ascendente son:  [3.5, 3.8, 4.2, 4.6, 4.8]\n",
      "Los números en orden descendente son: [4.8, 4.6, 4.2, 3.8, 3.5]\n",
      "El mayor número elevado al menor número es: 242.2949323184453\n",
      "La raíz cúbica del menor número es:   1.5182944859378311\n"
     ]
    }
   ],
   "source": [
    "numeros = []\n",
    "for i in range(5):     # Ingreso del usuario de 5 numeros reales\n",
    "    num = float(input(f\"Ingrese el número {i+1}: \"))\n",
    "    numeros.append(num)\n",
    "\n",
    "promedioAritmetico = sum(numeros) / len(numeros)   # Calcular el promedio aritmético\n",
    "\n",
    "numerosOrdenados = sorted(numeros)  # Calcular la mediana\n",
    "mediana = 0\n",
    "if len(numerosOrdenados) % 2 == 0:  # Si el número de elementos es par, se promedian los dos del centro\n",
    "    indiceMedio = len(numerosOrdenados) // 2\n",
    "    mediana = (numerosOrdenados[indiceMedio-1] + numerosOrdenados[indiceMedio]) / 2\n",
    "else:                                # Sino, el número de elementos es impar, se toma el del centro\n",
    "    indiceMedio = len(numerosOrdenados) // 2\n",
    "    mediana = numerosOrdenados[indiceMedio]\n",
    "\n",
    "from functools import reduce         # Calcular el promedio multiplicativo\n",
    "promedioMultiplicativo = reduce(lambda x, y: x * y, numeros) ** (1/len(numeros))\n",
    "\n",
    "numerosAscendente = sorted(numeros) # Ordenar los números de forma ascendente y descendente\n",
    "numerosDescendente = sorted(numeros, reverse=True)\n",
    "\n",
    "mayor = max(numeros)                 # Calcular la potencia del mayor número elevado al menor número\n",
    "menor = min(numeros)\n",
    "potencia = mayor ** menor\n",
    "\n",
    "raizCubica = menor ** (1/3)         # Calcular la raíz cúbica del menor número\n",
    "\n",
    "print(f\"El promedio aritmético es: {promedioAritmetico}\")    # Imprimir resultados\n",
    "print(f\"La mediana es:             {mediana}\")\n",
    "print(f\"El promedio multiplicativo es:        {promedioMultiplicativo}\")\n",
    "print(f\"Los números en orden ascendente son:  {numerosAscendente}\")\n",
    "print(f\"Los números en orden descendente son: {numerosDescendente}\")\n",
    "print(f\"El mayor número elevado al menor número es: {potencia}\")\n",
    "print(f\"La raíz cúbica del menor número es:   {raizCubica}\")"
   ]
  },
  {
   "attachments": {},
   "cell_type": "markdown",
   "metadata": {},
   "source": [
    "# 10: Suponga que se tiene una lista A con ciertos números enteros. Desarrolle una función que, independientemente de los números que se encuentran en la lista A, tome aquellos números que son múltiplos de 3 y los guarde en una lista nueva, la cual debe ser **retornada** por la función. Implemente la perspectiva de un *patrón de acumulación* y también de *comprensión de listas*. **Desafío:** Si ya lo logró, inténtelo ahora sin utilizar el módulo (%). **Pista:** Un número es multiplo de 3 si la suma de sus dígitos también lo es, ¿verdad?\n"
   ]
  },
  {
   "cell_type": "code",
   "execution_count": 10,
   "metadata": {},
   "outputs": [
    {
     "name": "stdout",
     "output_type": "stream",
     "text": [
      "La lista ingresada es: [1, 2, 3, 4, 5, 6, 7, 8, 9, 10]\n",
      "Los números múltiplos de 3 son: [3, 6, 9]\n"
     ]
    }
   ],
   "source": [
    "def multiplosDe3(lista):   # Función para el cálculo de si es multiplo de 3\n",
    "    return [i for i in lista if i % 3 == 0]                                                     \n",
    "                                \n",
    "if __name__ == \"__main__\":\n",
    "  lista=[]\n",
    "  n = int(input(\"Ingrese la cantidad de elementos de la lista: \"))  # Ingreso del usuario de cantidad de elementos de la lista\n",
    "  for i in range(n):                                                # Ingreso de elementos por el usuario\n",
    "    numero = int(input(\"Ingrese un número a la lista: \"))\n",
    "    lista.append(numero)                                            # Agrega elementos a la lista\n",
    "  multiplos=multiplosDe3(lista)                                     # Llamado de la función\n",
    "  print(\"La lista ingresada es: \" + str(lista))                     # Imprimir lista ingresada\n",
    "  print(\"Los números múltiplos de 3 son: \" + str(multiplos))        # Imprimir resultados"
   ]
  },
  {
   "cell_type": "markdown",
   "metadata": {},
   "source": [
    "# 11 BONUS: Desarrollar un algoritmo que determine si una matriz es mágica. Se dice que una matriz cuadrada es mágica si la suma de cada una de sus filas, de cada una de sus columnas y de cada diagonal es igual."
   ]
  },
  {
   "cell_type": "code",
   "execution_count": 11,
   "metadata": {},
   "outputs": [
    {
     "name": "stdout",
     "output_type": "stream",
     "text": [
      "La matriz sí es mágica.\n"
     ]
    }
   ],
   "source": [
    "def matrizMagica(matriz:list) -> bool:\n",
    "    m_len = len(matriz)\n",
    "    suma_filas = []     # Sumar filas\n",
    "    for i in range(m_len): \n",
    "        lst = matriz[i]\n",
    "        suma = 0 \n",
    "        for j in range(m_len):\n",
    "            suma += lst[j]\n",
    "        if len(suma_filas) == 0: \n",
    "            suma_filas.append(suma)\n",
    "        elif suma_filas[-1] == suma:\n",
    "            suma_filas.append(suma)\n",
    "        else:\n",
    "            return False\n",
    "        \n",
    "    suma_columnas = [] # Sumar columnas\n",
    "    for i in range(m_len):\n",
    "        suma = 0 \n",
    "        for j in range(m_len):\n",
    "            suma += matriz[i][j]\n",
    "        if len(suma_columnas) == 0: \n",
    "            suma_columnas.append(suma)\n",
    "        elif suma_columnas[-1] == suma:\n",
    "            suma_columnas.append(suma)\n",
    "        else:\n",
    "            return False    \n",
    "\n",
    "    if suma_filas != suma_columnas: # Comparar si las listas (que contienen los valores calculados para la suma de cada fila y columna), son iguales.\n",
    "        return False                # Si no son iguales la función retorna False.\n",
    "    \n",
    "    suma_diagonal1 = 0      # Calcular la suma de la diagonal\n",
    "    shifter = 0\n",
    "    for i in range(m_len):\n",
    "        suma_diagonal1 += matriz[i][shifter]\n",
    "        shifter += 1  \n",
    "\n",
    "    suma_diagonal2 = sum([row[len(matriz) - 1 - i] for i, row in enumerate(matriz)]) # se halla la suma de la diagonal izq-der (se implementaron técnicas novedosas ya que era practicamente lo mismo que para la otra diagonal).\n",
    "\n",
    "    for i in range(m_len): # Comparar si las listas de las diagonales son iguales a la suma_columnas\n",
    "        if suma_columnas[i] != suma_diagonal1 and suma_columnas != suma_diagonal2:\n",
    "            return  False\n",
    "\n",
    "    return True\n",
    "    \n",
    "if __name__ == \"__main__\":\n",
    "    matriz = []\n",
    "    n = int(input(\"Ingrese el tamaño de la matriz (matriz cuadrada): \")) # Ingreso del tamaño de la matriz cuadrada\n",
    "    for x in range(n):\n",
    "        lista = []\n",
    "        for y in range(n):\n",
    "            elemento = int(input(f\"Ingrese el elemento ({x+1},{y+1}): \"))\n",
    "            lista.append(elemento)\n",
    "        matriz.append(lista)\n",
    "    respuesta = matrizMagica(matriz)\n",
    "\n",
    "    if respuesta == True :    # Imprimir resultado\n",
    "        print(\"La matriz sí es mágica.\")\n",
    "    else:\n",
    "        print(\"La matriz no es mágica.\")"
   ]
  }
 ],
 "metadata": {
  "kernelspec": {
   "display_name": "Python 3",
   "language": "python",
   "name": "python3"
  },
  "language_info": {
   "codemirror_mode": {
    "name": "ipython",
    "version": 3
   },
   "file_extension": ".py",
   "mimetype": "text/x-python",
   "name": "python",
   "nbconvert_exporter": "python",
   "pygments_lexer": "ipython3",
   "version": "3.9.6"
  },
  "orig_nbformat": 4
 },
 "nbformat": 4,
 "nbformat_minor": 2
}
